{
 "cells": [
  {
   "cell_type": "markdown",
   "metadata": {},
   "source": [
    "# Generate Europa Metadata\n",
    "\n",
    "The Europa data release has two different types of products: (1) image mosaics and (2) individual L2 images. Within each of these products, different flavors of the data are being released. Some are photometrically trimmed and some are not.\n",
    "\n",
    "- /jupiter/europa/galileo_voyager/controlled_mosaics - /scratch/ARD/stac/jupiter/europa/mosaics\n",
    "- /jupiter/europa/galileo_voyager/controlled_images -  /scratch/ARD/stac/jupiter/europa/individual_images/*/"
   ]
  },
  {
   "cell_type": "code",
   "execution_count": 19,
   "metadata": {},
   "outputs": [],
   "source": [
    "import glob\n",
    "import json\n",
    "import os\n",
    "import requests\n",
    "\n",
    "from amg.isismetadata import IsisFootPrintBlob\n",
    "from amg.fgdcmetadata import FGDCMetadata, OrthographicFgdcParser\n",
    "from amg.gdalmetadata import GDALMetadata\n",
    "from amg.databasemetadata import DbMetadata\n",
    "from amg.plaintextmetadata import PcAlignMetadata\n",
    "from amg.formatters.stac_formatter import to_stac\n",
    "from amg.formatters.fgdc_formatter import to_fgdc\n",
    "from amg.utils import find_files, write_fgdc, write_stac\n",
    "from amg import UnifiedMetadata\n",
    "    \n"
   ]
  },
  {
   "cell_type": "markdown",
   "metadata": {},
   "source": [
    "## Step I: Stage the data"
   ]
  },
  {
   "cell_type": "markdown",
   "metadata": {},
   "source": [
    "## Step II: Build the STAC Collections"
   ]
  },
  {
   "cell_type": "markdown",
   "metadata": {},
   "source": [
    "### Mosaics\n",
    "\n",
    "Data are in `/scratch/jlaura/europa_mosaics/GLL_Obs` to be uploaded. Omit the .wkt files since they are image footprints."
   ]
  },
  {
   "cell_type": "code",
   "execution_count": 28,
   "metadata": {},
   "outputs": [],
   "source": [
    "EUROPA_MOSAICS = '/scratch/jlaura/europa_mosaics/GLL_Obs/COGs/'\n",
    "OUTFILE = '2021_6_30_mosaics.lis'"
   ]
  },
  {
   "cell_type": "code",
   "execution_count": 29,
   "metadata": {},
   "outputs": [
    {
     "name": "stdout",
     "output_type": "stream",
     "text": [
      "Done!\n"
     ]
    }
   ],
   "source": [
    "stac_files = []\n",
    "def create_unified_metadata_obj(image, footprint_filename, template, proj='equirect'):\n",
    "    fgdc = FGDCMetadata(template, proj=proj)\n",
    "    gd = GDALMetadata(image)\n",
    "    ifb = IsisFootPrintBlob(footprint_filename)\n",
    "\n",
    "    basename = os.path.basename(image)\n",
    "    productname = os.path.splitext(basename)[0].replace('-cog', '')\n",
    "    \n",
    "    # Define overrides\n",
    "    overrides = {'license': 'PDDL-1.0',\n",
    "                 'missions':['Voyager 1', 'Voyager 2', 'Galileo'],\n",
    "                 'doi':'https://doi.org/10.5066/P9VKKK7C',\n",
    "                 'instruments':['Voyager I ISS, Voyager II ISS, Galileo SSI'],\n",
    "                 'href':'https://asc-jupiter.s3-us-west-2.amazonaws.com/europa/galileo_voyager/controlled_mosaics/',\n",
    "                 'longitude_domain':360,\n",
    "                 'title':f'Absolutely Controlled Image Mosaic; Europa; {productname}',\n",
    "                 'id':basename\n",
    "\n",
    "}\n",
    "\n",
    "    # Define mappings\n",
    "    mappings = {'bbox':IsisFootPrintBlob, }\n",
    "    \n",
    "    record = UnifiedMetadata([fgdc, gd, ifb], overrides=overrides, mappings=mappings)\n",
    "    \n",
    "    return record\n",
    "\n",
    "template = '../templates/europa_equirec_mosaics_fgdc_template.xml'\n",
    "\n",
    "for i, fname in enumerate(glob.glob(EUROPA_MOSAICS + '/*.tif')): \n",
    "    basedir = os.path.dirname(fname)\n",
    "        \n",
    "    footprint_filename = fname.replace('-cog.tif', '.cub.wkt')\n",
    "    if not os.path.exists(footprint_filename):\n",
    "        print(f'No footprint for {fname}')\n",
    "        continue\n",
    "    \n",
    "    \n",
    "    # Data are in mixed projections, parse filenames to determine projection\n",
    "    if 'Equi' in fname:\n",
    "        proj = 'equirect'\n",
    "    elif 'SPola' in fname or 'NPola' in fname:\n",
    "        proj = 'polarst'\n",
    "    else:\n",
    "        print('Unknown projection', fname)\n",
    "    \n",
    "    # This builds the metadata record\n",
    "    record = create_unified_metadata_obj(fname, footprint_filename, template, proj=proj)\n",
    "    \n",
    "    # Generate and write FGDC\n",
    "    data_name = os.path.splitext(fname)[0]\n",
    "    write_fgdc(os.path.join(basedir, data_name + '.xml'), to_fgdc(record))\n",
    "    \n",
    "    # Manually define the assets for this set of products\n",
    "    assets = [{'title':'Image Thumbnail',\n",
    "       'href':'{href}/{productid}.jpeg',\n",
    "       'type':'image/jpeg',\n",
    "       'roles':['thumbnail'],\n",
    "       'key':'thumbnail'},\n",
    "      {'title': 'Controlled Image',\n",
    "       'href':'{href}/{productid}.tif',\n",
    "       'type':'image/tiff; application=geotiff; profile=cloud-optimized',\n",
    "       'roles':['data'],\n",
    "       'key':'image'},\n",
    "      {'title': 'FGDC Metadata',\n",
    "       'href':'{href}/{productid}.xml',\n",
    "       'type':'application/xml',\n",
    "       'roles':['metadata'],\n",
    "       'key':'fgdc_metadata'}\n",
    "      ]\n",
    "\n",
    "    \n",
    "    stac_record = to_stac(record, assets=assets)\n",
    "    stac_file = os.path.join(basedir, data_name + '.json')\n",
    "    write_stac(stac_file, stac_record)\n",
    "    stac_files.append(stac_file)\n",
    "\n",
    "# Write the list of created STAC files to the outfile\n",
    "with open(os.path.join(EUROPA_MOSAICS, OUTFILE), 'w') as f:\n",
    "    for stac_file in stac_files:\n",
    "        f.write(stac_file + '\\n')\n",
    "print('Done!')"
   ]
  },
  {
   "cell_type": "markdown",
   "metadata": {},
   "source": [
    "### Individual Images"
   ]
  },
  {
   "cell_type": "code",
   "execution_count": 30,
   "metadata": {},
   "outputs": [],
   "source": [
    "EUROPA_L2 = '/scratch/ARD/stac/jupiter/europa/individual_images/'\n",
    "OUTFILE = '2021_6_30_individual.lis'"
   ]
  },
  {
   "cell_type": "code",
   "execution_count": 31,
   "metadata": {},
   "outputs": [
    {
     "name": "stdout",
     "output_type": "stream",
     "text": [
      "Done!\n"
     ]
    }
   ],
   "source": [
    "stac_files = []\n",
    "def create_unified_metadata_obj(image, footprint_filename, template, proj='equirect'):\n",
    "    fgdc = FGDCMetadata(template, proj=proj)\n",
    "    gd = GDALMetadata(image)\n",
    "    ifb = IsisFootPrintBlob(footprint_filename)\n",
    "\n",
    "    basename = os.path.basename(image)\n",
    "    productname = os.path.splitext(basename)[0].replace('-cog', '')\n",
    "    \n",
    "    # Define overrides\n",
    "    overrides = {'license': 'PDDL-1.0',\n",
    "                 'missions':['Voyager 1', 'Voyager 2', 'Galileo'],\n",
    "                 'doi':'https://doi.org/10.5066/P9VKKK7C',\n",
    "                 'instruments':['Voyager I ISS, Voyager II ISS, Galileo SSI'],\n",
    "                 'href':'https://asc-jupiter.s3-us-west-2.amazonaws.com/europa/galileo_voyager/controlled_images',\n",
    "                 'longitude_domain':360,\n",
    "                 'title':f'Absolutely Controlled Image Mosaic; Europa; {productname}',\n",
    "                 'id':basename}\n",
    "\n",
    "    # Define mappings\n",
    "    mappings = {'bbox':IsisFootPrintBlob, }\n",
    "    \n",
    "    record = UnifiedMetadata([fgdc, gd, ifb], overrides=overrides, mappings=mappings)\n",
    "    \n",
    "    return record\n",
    "\n",
    "template = '../templates/europa_individual_l2_fgdc.xml'\n",
    "\n",
    "for i, fname in enumerate(glob.glob(EUROPA_L2 + '/*/*.tif')): \n",
    "    basedir = os.path.dirname(fname)\n",
    "    footprint_filename = fname.replace('-cog.tif', '.cub.wkt')\n",
    "    \n",
    "    if not os.path.exists(footprint_filename):\n",
    "        print(f'No footprint for {fname}')\n",
    "        continue\n",
    "    \n",
    "    # Data are in mixed projections, parse filenames to determine projection\n",
    "    if 'equi' in fname:\n",
    "        proj = 'equirect'\n",
    "    elif 'spola' in fname or 'npola' in fname:\n",
    "        proj = 'polarst'\n",
    "    else:\n",
    "        print('Unknown projection', fname)\n",
    "    \n",
    "    # This builds the metadata record\n",
    "    record = create_unified_metadata_obj(fname, footprint_filename, template, proj=proj)\n",
    "    \n",
    "    # Generate and write FGDC\n",
    "    data_name = os.path.splitext(fname)[0]\n",
    "    write_fgdc(os.path.join(basedir, data_name + '.xml'), to_fgdc(record))\n",
    "    \n",
    "    # Manually define the assets for this set of products\n",
    "    assets = [{'title':'Image Thumbnail',\n",
    "       'href':'{href}/{productid}.jpeg',\n",
    "       'type':'image/jpeg',\n",
    "       'roles':['thumbnail'],\n",
    "       'key':'thumbnail'},\n",
    "      {'title': 'Controlled Image',\n",
    "       'href':'{href}/{productid}.tif',\n",
    "       'type':'image/tiff; application=geotiff; profile=cloud-optimized',\n",
    "       'roles':['data'],\n",
    "       'key':'image'},\n",
    "      {'title': 'FGDC Metadata',\n",
    "       'href':'{href}/{productid}.xml',\n",
    "       'type':'application/xml',\n",
    "       'roles':['metadata'],\n",
    "       'key':'fgdc_metadata'},\n",
    "      {'title': 'Supplemental XML Metadata',\n",
    "       'href': '{href}/{productid}.tif.aux.xml',\n",
    "       'type':'text/plain',\n",
    "       'roles': ['metadata'],\n",
    "       'key':'pds_label'}\n",
    "      ]\n",
    "\n",
    "    \n",
    "    stac_record = to_stac(record, assets=assets)\n",
    "    stac_file = os.path.join(basedir, data_name + '.json')\n",
    "    write_stac(stac_file, stac_record)\n",
    "    stac_files.append(stac_file)\n",
    "\n",
    "# Write the list of created STAC files to the outfile\n",
    "with open(os.path.join(EUROPA_L2, OUTFILE), 'w') as f:\n",
    "    for stac_file in stac_files:\n",
    "        f.write(stac_file + '\\n')\n",
    "print('Done!')"
   ]
  },
  {
   "cell_type": "code",
   "execution_count": null,
   "metadata": {},
   "outputs": [],
   "source": []
  },
  {
   "cell_type": "code",
   "execution_count": null,
   "metadata": {},
   "outputs": [],
   "source": []
  },
  {
   "cell_type": "code",
   "execution_count": null,
   "metadata": {},
   "outputs": [],
   "source": []
  },
  {
   "cell_type": "code",
   "execution_count": null,
   "metadata": {},
   "outputs": [],
   "source": []
  }
 ],
 "metadata": {
  "interpreter": {
   "hash": "1b85fe7878610b2bd09c81c55423568742defa8d68d6252060ae0ba6b4d0f88f"
  },
  "kernelspec": {
   "display_name": "Python 3.9.6 64-bit ('amg': conda)",
   "name": "python3"
  },
  "language_info": {
   "name": "python",
   "version": ""
  }
 },
 "nbformat": 4,
 "nbformat_minor": 5
}