{
 "cells": [
  {
   "cell_type": "markdown",
   "id": "neural-faculty",
   "metadata": {},
   "source": [
    "# Generate Europa Metadata\n",
    "\n",
    "The Europa data release has two different types of products: (1) image mosaics and (2) individual L2 images. Within each of these products, different flavors of the data are being released. Some are photometrically trimmed and some are not.\n",
    "\n",
    "- /jupiter/europa/galileo_voyager/controlled_mosaics - /scratch/ARD/stac/jupiter/europa/mosaics\n",
    "- /jupiter/europa/galileo_voyager/controlled_images -  /scratch/ARD/stac/jupiter/europa/individual_images/*/"
   ]
  },
  {
   "cell_type": "code",
   "execution_count": 1,
   "id": "governmental-snowboard",
   "metadata": {},
   "outputs": [],
   "source": [
    "import glob\n",
    "import json\n",
    "import os\n",
    "import requests\n",
    "\n",
    "from amg.isismetadata import IsisFootPrintBlob\n",
    "from amg.fgdcmetadata import FGDCMetadata, OrthographicFgdcParser\n",
    "from amg.gdalmetadata import GDALMetadata\n",
    "from amg.databasemetadata import DbMetadata, GenericSQLite\n",
    "from amg.plaintextmetadata import PcAlignMetadata\n",
    "from amg.formatters.stac_formatter import to_stac\n",
    "from amg.formatters.fgdc_formatter import to_fgdc\n",
    "from amg.utils import find_files, write_fgdc, write_stac\n",
    "from amg import UnifiedMetadata"
   ]
  },
  {
   "cell_type": "markdown",
   "id": "conventional-chocolate",
   "metadata": {},
   "source": [
    "## Step I: Stage the data"
   ]
  },
  {
   "cell_type": "markdown",
   "id": "supreme-hardwood",
   "metadata": {},
   "source": [
    "## Step II: Build the STAC Collections"
   ]
  },
  {
   "cell_type": "markdown",
   "id": "invalid-challenge",
   "metadata": {},
   "source": [
    "### Mosaics\n",
    "\n",
    "Data are in `/scratch/jlaura/europa_mosaics/GLL_Obs` to be uploaded. Omit the .wkt files since they are image footprints."
   ]
  },
  {
   "cell_type": "code",
   "execution_count": 2,
   "id": "imperial-banks",
   "metadata": {},
   "outputs": [],
   "source": [
    "EUROPA_MOSAICS = '/scratch/jlaura/europa_mosaics/GLL_Obs/COGs/'\n",
    "OUTFILE = '2021_6_30_mosaics.lis'"
   ]
  },
  {
   "cell_type": "code",
   "execution_count": 3,
   "id": "alleged-lodging",
   "metadata": {},
   "outputs": [
    {
     "name": "stderr",
     "output_type": "stream",
     "text": [
      "/work/users/jlaura/github/automated-metadata-generation/amg/__init__.py:72: UserWarning: Unable to find the attribute \"horizontal_accuracy_report\" in any data source.\n",
      "  warnings.warn(f'Unable to find the attribute \"{attr}\" in any data source.')\n",
      "/work/users/jlaura/github/automated-metadata-generation/amg/__init__.py:72: UserWarning: Unable to find the attribute \"vertical_accuracy_report\" in any data source.\n",
      "  warnings.warn(f'Unable to find the attribute \"{attr}\" in any data source.')\n",
      "/work/users/jlaura/github/automated-metadata-generation/amg/__init__.py:72: UserWarning: Unable to find the attribute \"processing_environment\" in any data source.\n",
      "  warnings.warn(f'Unable to find the attribute \"{attr}\" in any data source.')\n"
     ]
    },
    {
     "name": "stdout",
     "output_type": "stream",
     "text": [
      "Done!\n"
     ]
    }
   ],
   "source": [
    "stac_files = []\n",
    "def create_unified_metadata_obj(image, footprint_filename, template, proj='equirect'):\n",
    "    fgdc = FGDCMetadata(template, proj=proj)\n",
    "    gd = GDALMetadata(image)\n",
    "    ifb = IsisFootPrintBlob(footprint_filename)\n",
    "\n",
    "    idname = os.path.basename(image)\n",
    "    \n",
    "    productname = os.path.splitext(os.path.basename(image))[0].replace('-cog', '')\n",
    "    \n",
    "    # Define overrides\n",
    "    overrides = {'license': 'PDDL-1.0',\n",
    "                 'missions':['Voyager 1', 'Voyager 2', 'Galileo'],\n",
    "                 'doi':'https://doi.org/10.5066/P9VKKK7C',\n",
    "                 'instruments':['Voyager I ISS, Voyager II ISS, Galileo SSI'],\n",
    "                 'href':'https://asc-jupiter.s3-us-west-2.amazonaws.com/europa/galileo_voyager/controlled_mosaics',\n",
    "                 'longitude_domain':360,\n",
    "                 'projjson': None,\n",
    "                 'title':f'Absolutely Controlled Image Mosaic; Europa; {productname}',\n",
    "                 'targets':['Europa'],\n",
    "                 'id':idname\n",
    "}\n",
    "\n",
    "    # Define mappings\n",
    "    mappings = {'bbox':IsisFootPrintBlob, }\n",
    "    \n",
    "    record = UnifiedMetadata([fgdc, gd, ifb], overrides=overrides, mappings=mappings)\n",
    "    \n",
    "    return record\n",
    "\n",
    "template = '../templates/europa_equirec_mosaics_fgdc_template.xml'\n",
    "\n",
    "for i, fname in enumerate(glob.glob(EUROPA_MOSAICS + '/*.tif')): \n",
    "    basedir = os.path.dirname(fname)\n",
    "        \n",
    "    footprint_filename = fname.replace('-cog.tif', '.cub.wkt')\n",
    "    if not os.path.exists(footprint_filename):\n",
    "        print(f'No footprint for {fname}')\n",
    "        continue\n",
    "    \n",
    "    \n",
    "    # Data are in mixed projections, parse filenames to determine projection\n",
    "    if 'Equi' in fname:\n",
    "        proj = 'equirect'\n",
    "    elif 'SPola' in fname or 'NPola' in fname:\n",
    "        proj = 'polarst'\n",
    "    else:\n",
    "        print('Unknown projection', fname)\n",
    "    \n",
    "    # This builds the metadata record\n",
    "    record = create_unified_metadata_obj(fname, footprint_filename, template, proj=proj)\n",
    "    \n",
    "    # Generate and write FGDC\n",
    "    data_name = os.path.splitext(fname)[0]\n",
    "    write_fgdc(os.path.join(basedir, data_name + '.xml'), to_fgdc(record))\n",
    "    \n",
    "    # Manually define the assets for this set of products\n",
    "    assets = [{'title':'Image Thumbnail',\n",
    "       'href':'{href}/{productid}.jpeg',\n",
    "       'type':'image/jpeg',\n",
    "       'roles':['thumbnail'],\n",
    "       'key':'thumbnail'},\n",
    "      {'title': 'Controlled Image',\n",
    "       'href':'{href}/{productid}.tif',\n",
    "       'type':'image/tiff; application=geotiff; profile=cloud-optimized',\n",
    "       'roles':['data'],\n",
    "       'key':'image'},\n",
    "      {'title': 'FGDC Metadata',\n",
    "       'href':'{href}/{productid}.xml',\n",
    "       'type':'application/xml',\n",
    "       'roles':['metadata'],\n",
    "       'key':'fgdc_metadata'}\n",
    "      ]\n",
    "\n",
    "    \n",
    "    stac_record = to_stac(record, \n",
    "                          assets=assets, \n",
    "                          extensions=[\"https://stac-extensions.github.io/projection/v1.0.0/schema.json\",\n",
    "                                      \"https://stac-extensions.github.io/datacube/v1.0.0/schema.json\",\n",
    "                                      \"https://raw.githubusercontent.com/thareUSGS/ssys/main/json-schema/schema.json\"\n",
    "                                     ]\n",
    "                         )\n",
    "    stac_file = os.path.join(basedir, data_name + '.json')\n",
    "    write_stac(stac_file, stac_record)\n",
    "    stac_files.append(stac_file)\n",
    "\n",
    "# Write the list of created STAC files to the outfile\n",
    "with open(os.path.join(EUROPA_MOSAICS, OUTFILE), 'w') as f:\n",
    "    for stac_file in stac_files:\n",
    "        f.write(stac_file + '\\n')\n",
    "print('Done!')"
   ]
  },
  {
   "cell_type": "markdown",
   "id": "guilty-passport",
   "metadata": {},
   "source": [
    "### Individual Images"
   ]
  },
  {
   "cell_type": "code",
   "execution_count": 4,
   "id": "regional-olympus",
   "metadata": {},
   "outputs": [],
   "source": [
    "EUROPA_L2 = '/scratch/ARD/stac/jupiter/europa/individual_images/'\n",
    "OUTFILE = '2021_6_30_individual.lis'\n",
    "db = '/work/projects/EuropaBasemap/lweller/GLL_VGR_Network/DB/Europa_GalileoMrg_Voyager_Final.db'"
   ]
  },
  {
   "cell_type": "code",
   "execution_count": 8,
   "id": "official-boards",
   "metadata": {},
   "outputs": [
    {
     "name": "stdout",
     "output_type": "stream",
     "text": [
      "Done!\n"
     ]
    }
   ],
   "source": [
    "stac_files = []\n",
    "def create_unified_metadata_obj(image, footprint_filename, template, proj='equirect'):\n",
    "    fgdc = FGDCMetadata(template, proj=proj)\n",
    "    gd = GDALMetadata(image)\n",
    "    ifb = IsisFootPrintBlob(footprint_filename)\n",
    "\n",
    "    # Setup to read a generic SQLite database\n",
    "    db = '/work/projects/EuropaBasemap/lweller/GLL_VGR_Network/DB/Europa_GalileoMrg_Voyager_Final.db'\n",
    "    fname = os.path.basename(image).split('.')[0]\n",
    "    query = f\"\"\"SELECT * from geometry where geometry.File LIKE '{fname}%'\"\"\"\n",
    "    column_remapper = {'StartTime':'start_date',\n",
    "                       'EndTime':'stop_date',\n",
    "                       'EmissionAngle':'emission_angle',\n",
    "                       'IncidenceAngle':'incidence_angle',\n",
    "                       'NorthAzimuth':'north_azimuth',\n",
    "                       'SubSolarGroundAzimuth': 'subsolar_ground_azimuth'}\n",
    "    gsql = GenericSQLite(db, sql=query, column_remapper=column_remapper)\n",
    "\n",
    "    \n",
    "    # Setup a second generic SQLite reader for mission/instrument information\n",
    "    query = f\"\"\"SELECT * from image where image.File LIKE '{fname}%'\"\"\"\n",
    "    column_remapper = {'SpacecraftName':'missions',\n",
    "                       'InstrumentId':'instruments'}\n",
    "    gsql2 = GenericSQLite(db, sql=query, column_remapper=column_remapper)\n",
    "    \n",
    "    productname = os.path.splitext(os.path.basename(image))[0].replace('-cog', '')\n",
    "    \n",
    "    # Define overrides\n",
    "    overrides = {'license': 'PDDL-1.0',\n",
    "                 'doi':'https://doi.org/10.5066/P9VKKK7C',\n",
    "                 'href':'https://asc-jupiter.s3-us-west-2.amazonaws.com/europa/galileo_voyager/controlled_images',\n",
    "                 'longitude_domain':360,\n",
    "                 'title':f'Absolutely Controlled Image Mosaic; Europa; {productname}',\n",
    "                 'targets':['Europa']}\n",
    "\n",
    "    # Define mappings\n",
    "    mappings = {'bbox':IsisFootPrintBlob, 'start_date':GenericSQLite, 'stop_date':GenericSQLite}\n",
    "    \n",
    "    record = UnifiedMetadata([fgdc, gd, ifb, gsql, gsql2], overrides=overrides, mappings=mappings)\n",
    "    \n",
    "    return record\n",
    "\n",
    "template = '../templates/europa_individual_l2_fgdc.xml'\n",
    "\n",
    "for i, fname in enumerate(glob.glob(EUROPA_L2 + '/*/*.tif')): \n",
    "    basedir = os.path.dirname(fname)\n",
    "    footprint_filename = fname.replace('-cog.tif', '.cub.wkt')\n",
    "    \n",
    "    if not os.path.exists(footprint_filename):\n",
    "        print(f'No footprint for {fname}')\n",
    "        continue\n",
    "    \n",
    "    # Data are in mixed projections, parse filenames to determine projection\n",
    "    if 'equi' in fname:\n",
    "        proj = 'equirect'\n",
    "    elif 'spola' in fname or 'npola' in fname:\n",
    "        proj = 'polarst'\n",
    "    else:\n",
    "        print('Unknown projection', fname)\n",
    "    \n",
    "    # This builds the metadata record\n",
    "    record = create_unified_metadata_obj(fname, footprint_filename, template, proj=proj)\n",
    "        \n",
    "    # Generate and write FGDC\n",
    "    data_name = os.path.splitext(fname)[0]\n",
    "    #write_fgdc(os.path.join(basedir, data_name + '.xml'), to_fgdc(record))\n",
    "    \n",
    "    # Manually define the assets for this set of products\n",
    "    assets = [{'title':'Image Thumbnail',\n",
    "       'href':'{href}/{productid}.jpeg',\n",
    "       'type':'image/jpeg',\n",
    "       'roles':['thumbnail'],\n",
    "       'key':'thumbnail'},\n",
    "      {'title': 'Controlled Image',\n",
    "       'href':'{href}/{productid}.tif',\n",
    "       'type':'image/tiff; application=geotiff; profile=cloud-optimized',\n",
    "       'roles':['data'],\n",
    "       'key':'image'},\n",
    "      {'title': 'FGDC Metadata',\n",
    "       'href':'{href}/{productid}.xml',\n",
    "       'type':'application/xml',\n",
    "       'roles':['metadata'],\n",
    "       'key':'fgdc_metadata'},\n",
    "      {'title': 'Supplemental XML Metadata',\n",
    "       'href': '{href}/{productid}.tif.aux.xml',\n",
    "       'type':'text/plain',\n",
    "       'roles': ['metadata'],\n",
    "       'key':'pds_label'}\n",
    "      ]\n",
    "\n",
    "    \n",
    "    stac_record = to_stac(record, assets=assets, extensions=[\"https://stac-extensions.github.io/projection/v1.0.0/schema.json\",\n",
    "                                                             \"https://stac-extensions.github.io/datacube/v1.0.0/schema.json\",\n",
    "                                                             \"https://stac-extensions.github.io/view/v1.0.0/schema.json\",\n",
    "                                                             \"https://raw.githubusercontent.com/thareUSGS/ssys/main/json-schema/schema.json\"])\n",
    "    stac_file = os.path.join(basedir, data_name + '.json')\n",
    "    write_stac(stac_file, stac_record)\n",
    "    stac_files.append(stac_file)\n",
    "    \n",
    "# Write the list of created STAC files to the outfile\n",
    "with open(os.path.join(EUROPA_L2, OUTFILE), 'w') as f:\n",
    "    for stac_file in stac_files:\n",
    "        f.write(stac_file + '\\n')\n",
    "print('Done!')"
   ]
  },
  {
   "cell_type": "code",
   "execution_count": null,
   "id": "appointed-dining",
   "metadata": {},
   "outputs": [],
   "source": []
  },
  {
   "cell_type": "code",
   "execution_count": null,
   "id": "relative-shark",
   "metadata": {},
   "outputs": [],
   "source": []
  },
  {
   "cell_type": "code",
   "execution_count": 1,
   "id": "engaged-communications",
   "metadata": {},
   "outputs": [],
   "source": [
    "import pystac"
   ]
  },
  {
   "cell_type": "code",
   "execution_count": 6,
   "id": "unexpected-wildlife",
   "metadata": {},
   "outputs": [
    {
     "ename": "ImportError",
     "evalue": "cannot import name 'ItemExtension' from 'pystac.extensions.base' (/home/jlaura/anaconda3/envs/amg/lib/python3.8/site-packages/pystac/extensions/base.py)",
     "output_type": "error",
     "traceback": [
      "\u001b[0;31m---------------------------------------------------------------------------\u001b[0m",
      "\u001b[0;31mImportError\u001b[0m                               Traceback (most recent call last)",
      "\u001b[0;32m<ipython-input-6-fc72a293abb0>\u001b[0m in \u001b[0;36m<module>\u001b[0;34m\u001b[0m\n\u001b[0;32m----> 1\u001b[0;31m \u001b[0;32mfrom\u001b[0m \u001b[0mpystac\u001b[0m\u001b[0;34m.\u001b[0m\u001b[0mextensions\u001b[0m\u001b[0;34m.\u001b[0m\u001b[0mbase\u001b[0m \u001b[0;32mimport\u001b[0m \u001b[0mItemExtension\u001b[0m\u001b[0;34m\u001b[0m\u001b[0;34m\u001b[0m\u001b[0m\n\u001b[0m",
      "\u001b[0;31mImportError\u001b[0m: cannot import name 'ItemExtension' from 'pystac.extensions.base' (/home/jlaura/anaconda3/envs/amg/lib/python3.8/site-packages/pystac/extensions/base.py)"
     ]
    }
   ],
   "source": [
    "from pystac.extensions.base import ItemExtension\n"
   ]
  },
  {
   "cell_type": "code",
   "execution_count": 2,
   "id": "constant-pipeline",
   "metadata": {},
   "outputs": [
    {
     "ename": "ImportError",
     "evalue": "cannot import name 'ItemExtension' from 'pystac.extensions.base' (/home/jlaura/anaconda3/envs/amg/lib/python3.8/site-packages/pystac/extensions/base.py)",
     "output_type": "error",
     "traceback": [
      "\u001b[0;31m---------------------------------------------------------------------------\u001b[0m",
      "\u001b[0;31mImportError\u001b[0m                               Traceback (most recent call last)",
      "\u001b[0;32m<ipython-input-2-fc72a293abb0>\u001b[0m in \u001b[0;36m<module>\u001b[0;34m\u001b[0m\n\u001b[0;32m----> 1\u001b[0;31m \u001b[0;32mfrom\u001b[0m \u001b[0mpystac\u001b[0m\u001b[0;34m.\u001b[0m\u001b[0mextensions\u001b[0m\u001b[0;34m.\u001b[0m\u001b[0mbase\u001b[0m \u001b[0;32mimport\u001b[0m \u001b[0mItemExtension\u001b[0m\u001b[0;34m\u001b[0m\u001b[0;34m\u001b[0m\u001b[0m\n\u001b[0m",
      "\u001b[0;31mImportError\u001b[0m: cannot import name 'ItemExtension' from 'pystac.extensions.base' (/home/jlaura/anaconda3/envs/amg/lib/python3.8/site-packages/pystac/extensions/base.py)"
     ]
    }
   ],
   "source": [
    "from pystac.extensions.base import ItemExtension"
   ]
  },
  {
   "cell_type": "code",
   "execution_count": null,
   "id": "abroad-harbor",
   "metadata": {},
   "outputs": [],
   "source": []
  }
 ],
 "metadata": {
  "kernelspec": {
   "display_name": "amg",
   "language": "python",
   "name": "amg"
  },
  "language_info": {
   "codemirror_mode": {
    "name": "ipython",
    "version": 3
   },
   "file_extension": ".py",
   "mimetype": "text/x-python",
   "name": "python",
   "nbconvert_exporter": "python",
   "pygments_lexer": "ipython3",
   "version": "3.8.8"
  }
 },
 "nbformat": 4,
 "nbformat_minor": 5
}
