{
 "cells": [
  {
   "cell_type": "markdown",
   "id": "overhead-bundle",
   "metadata": {},
   "source": [
    "# Generate a STAC Catalog\n",
    "\n",
    "For better or worse, it is easier to build a STAC catalog at the same time that the STAC items are created. Below we generate a catalog and metadata for a directory of data"
   ]
  },
  {
   "cell_type": "markdown",
   "id": "little-serve",
   "metadata": {},
   "source": [
    "---------------------\n",
    "## Step I: Make the catalog"
   ]
  },
  {
   "cell_type": "code",
   "execution_count": 22,
   "id": "aquatic-decrease",
   "metadata": {},
   "outputs": [],
   "source": [
    "import datetime\n",
    "import json\n",
    "import os\n",
    "from pathlib import Path\n",
    "import ssl\n",
    "# This is require for verification / validation using remote resources when inside the network\n",
    "ssl._create_default_https_context = ssl._create_unverified_context\n",
    "\n",
    "import pystac\n",
    "from pystac import Collection, SpatialExtent, TemporalExtent, Extent\n",
    "\n",
    "from amg.isismetadata import IsisMetadata\n",
    "from amg.fgdcmetadata import FGDCMetadata, EquirectangularFgdcParser, PolarStereoGraphicFgdcParser\n",
    "from amg.gdalmetadata import GDALMetadata\n",
    "from amg.formatters.stac_formatter import to_stac\n",
    "from amg.formatters.fgdc_formatter import to_fgdc\n",
    "from amg import UnifiedMetadata"
   ]
  },
  {
   "cell_type": "code",
   "execution_count": 23,
   "id": "usual-ordering",
   "metadata": {},
   "outputs": [],
   "source": [
    "description = \"\"\"\n",
    "The Solid State Imager (SSI) on NASA's Galileo spacecraft acquired more than 500 images of Jupiter's moon, Europa, \n",
    "providing the only moderate- to high-resolution images of the moon's surface. Images were acquired as observation \n",
    "sequences during each orbit that targeted the moon. Each of these observation sequences consists of between 1 and \n",
    "19 images acquired close in time, that typically overlap, have consistent illumination and similar pixel scale. \n",
    "The observations vary from relatively low-resolution hemispherical imaging, to high-resolution targeted images that \n",
    "cover a small portion of the surface. Here we provide average mosaics of each of the individual observation sequences \n",
    "acquired by the Galileo spacecraft. These observation mosaics were constructed from a set of 481 Galileo images that \n",
    "were photogrammetrically controlled globally (along with 221 Voyager 1 and 2 images) to improve their relative \n",
    "locations on Europa's surface. The 92 observation mosaics provide users with nearly the entire Galileo Europa \n",
    "imaging dataset at its native resolution and with improved relative image locations.\n",
    "\n",
    "The Solid State Imager (SSI) on NASA's Galileo spacecraft provided the only moderate- to high-resolution images \n",
    "of Jupiter's moon, Europa. Unfortunately, uncertainty in the position and pointing of the spacecraft, as well as \n",
    "the position and orientation of Europa, when the images were acquired resulted in significant errors in image \n",
    "locations on the surface. The result of these errors is that images acquired during different Galileo orbits, or \n",
    "even at different times during the same orbit, are significantly misaligned (errors of up to 100 km on the surface).\n",
    "Previous work has generated global mosaics of Galileo and Voyager images that photogrammetrically control a subset \n",
    "of the available images to correct their relative locations. However, these efforts result in a \"static\" mosaic \n",
    "that is projected to a consistent pixel scale, and only use a fraction of the dataset (e.g., high resolution images \n",
    "are not included). The purpose of this current dataset is to increase the usability of the entire Galileo image set \n",
    "by photogrammetrically improving the locations of nearly every Europa image acquired by Galileo, and making them \n",
    "available to the community at their native resolution and in easy-to-use regional mosaics based on their acquisition time.\n",
    "The dataset therefore provides a set of image mosaics that can be used for scientific analysis and mission planning activities.\n",
    "\"\"\"\n",
    "\n",
    "coll = Collection(id='usgs_controlled_voy1_voy2_galileo',\n",
    "                  title='USGS Controlled Europa Voyager 1, Voyager 2, and Galileo Image Data',\n",
    "                  description=description,\n",
    "                  extent=Extent(SpatialExtent([-180, -90, 180, 90]), \n",
    "                                TemporalExtent([datetime.datetime(2021, 1, 1), None])),\n",
    "                  href='https://asc-jupiter.s3-us-west-2.amazonaws.com/europa/individual_l2/collection.json',\n",
    "                  license='PDDL-1.0'\n",
    "                 )\n",
    "coll.validate()"
   ]
  },
  {
   "cell_type": "markdown",
   "id": "laughing-wellington",
   "metadata": {},
   "source": [
    "----------------\n",
    "## Step II: Get a list of the input data\n",
    "\n",
    "Below, we are generating the catalog from a list of files that contains full, qualified paths. One could also use glob to generate a file list dynamically from within a notebook.\n",
    "\n",
    "The `UPLOAD_DIR` argument defines where we are going to write out the collection and any metadata files. In practice, the workflow that I have been using is:\n",
    "\n",
    "1. Generate the cloud optimized geotiffs (COGs) and stage them into the UPLOAD_DIR\n",
    "1. Generate the metadata and collection files, pointing at the original data, and stage them into the UPLOAD_DIR\n",
    "1. Push all of the data to S3\n",
    "1. Scrape the new S3 bucket using a local stac-browser\n",
    "1. Push the updated stac-browser (it is a static site after all) to the web hosting S3 bucket"
   ]
  },
  {
   "cell_type": "code",
   "execution_count": 3,
   "id": "reverse-vertical",
   "metadata": {},
   "outputs": [],
   "source": [
    "UPLOAD_DIR = '/scratch/ARD/stac/jupiter/europa/'\n",
    "\n",
    "# List the products to generate STAC for...\n",
    "with open('/archive/projects/europa/GLL_FinProducts/observation_lev2_products.lis', 'r') as f:\n",
    "    products = f.readlines()\n",
    "products = [Path(p.rstrip()) for p in products]"
   ]
  },
  {
   "cell_type": "markdown",
   "id": "compound-compiler",
   "metadata": {},
   "source": [
    "The first few entries from the above list file are printed as a sanity check."
   ]
  },
  {
   "cell_type": "code",
   "execution_count": 19,
   "id": "asian-period",
   "metadata": {},
   "outputs": [
    {
     "name": "stdout",
     "output_type": "stream",
     "text": [
      "[PosixPath('/archive/projects/europa/GLL_FinProducts/10ESGLOBAL01/Lev2/s0413742778.equi.cub'), PosixPath('/archive/projects/europa/GLL_FinProducts/10ESGLOBAL01/Lev2/s0413742778.equi.photr.cub')]\n"
     ]
    }
   ],
   "source": [
    "print(products[0:2])"
   ]
  },
  {
   "cell_type": "markdown",
   "id": "former-squad",
   "metadata": {},
   "source": [
    "-----------------------\n",
    "## Step III: Cook Metadata and Update the Catalog"
   ]
  },
  {
   "cell_type": "markdown",
   "id": "excited-flexibility",
   "metadata": {},
   "source": [
    "Now it is necessary to loop over the individual files and generate appropriate metadata. Before doing that, three items are defined:\n",
    "- the template to use / parse for metadata \n",
    "- the overrides\n",
    "- the mappings\n",
    "\n",
    "Checkout the GenererateIndividualMetadata notebook for a full description of these arguments"
   ]
  },
  {
   "cell_type": "code",
   "execution_count": 11,
   "id": "super-conditions",
   "metadata": {},
   "outputs": [],
   "source": [
    "FGDC_TEMPLATE = '../templates/europa_individual_l2_fgdc.xml'\n",
    "\n",
    "# Define overrides\n",
    "overrides = {'license': 'PDDL-1.0',\n",
    "             'missions':['Voyager 1', 'Voyager 2', 'Galileo'],\n",
    "             'doi':'https://doi.org/10.5066/P9VKKK7C',\n",
    "             'href':'https://asc-jupiter.s3-us-west-2.amazonaws.com/europa/individual_l2'}\n",
    "\n",
    "# Define mappings\n",
    "mappings = {'bbox':IsisMetadata, }"
   ]
  },
  {
   "cell_type": "markdown",
   "id": "acquired-bread",
   "metadata": {},
   "source": [
    "STAC also has a concept of assets or files that are closely associated with one another. For each data set, it is necessary to define the assets template. The code will dynamically populate entries in the list of assets by filling in variables that are indicated by `{}`. For example, in the assets below the title of the first asset reads `'JPEG thumbnail of image {productid}'`. The code parses this string and replaces `{productid}` with the `productid` that is parsed off of the `UnifiedMetadata` object. "
   ]
  },
  {
   "cell_type": "code",
   "execution_count": 13,
   "id": "egyptian-reach",
   "metadata": {},
   "outputs": [],
   "source": [
    "assets = [{'title':'JPEG thumbnail of image {productid}',\n",
    "           'href':'{href}/{productid}.jpeg',\n",
    "           'media_type':'image/jpeg',\n",
    "           'roles':['thumbnail'],\n",
    "           'key':'thumbnail'},\n",
    "          {'title': 'Cloud optimized GeoTiff for image {productid}',\n",
    "           'href':'{href}/{productid}-cog.tif',\n",
    "           'media_type':'image/tiff; application=geotiff; profile=cloud-optimized',\n",
    "           'roles':['data'],\n",
    "           'key':'B1'},\n",
    "          {'title': 'GDAL PAM Metadata for image {productid}',\n",
    "           'href':'{href}/{productid}-cog.tif.aux.xml',\n",
    "           'media_type':'application/xml',\n",
    "           'roles':['metadata'],\n",
    "           'key':'gdal_metadata'},\n",
    "          {'title': 'FGDC Metadata for image {productid}',\n",
    "           'href':'{href}/productid.xml',\n",
    "           'media_type':'application/xml',\n",
    "           'roles':['metadata'],\n",
    "           'key':'fgdc_metadata'}]"
   ]
  },
  {
   "cell_type": "markdown",
   "id": "timely-launch",
   "metadata": {},
   "source": [
    "The cell below, in this example, is going to run for a fair amount of time simply because lots of metadata files are being generated."
   ]
  },
  {
   "cell_type": "code",
   "execution_count": 25,
   "id": "lesser-december",
   "metadata": {},
   "outputs": [],
   "source": [
    "for f in products:\n",
    "    # Perform some mundging on the path to get the base product name without path or file extension\n",
    "    f = str(f)\n",
    "    basename = os.path.basename(f)\n",
    "    outname = os.path.splitext(basename)[0]\n",
    "    \n",
    "    # Parse the filename (in this case) to get the projection so the correct FGDC projection injection can occurr\n",
    "    if 'equi' in f:\n",
    "        proj='equirect'\n",
    "    elif 'npola' in f or 'spola' in f:\n",
    "        proj='polarst'\n",
    "    \n",
    "    # Create the unified metadata record\n",
    "    fgdc = FGDCMetadata(FGDC_TEMPLATE, proj=proj)\n",
    "    gd = GDALMetadata(f)\n",
    "    imd = IsisMetadata(f)\n",
    "\n",
    "    record = UnifiedMetadata([fgdc, gd, imd], overrides=overrides, mappings={'bbox':IsisMetadata, })\n",
    "\n",
    "    # Generate the FGDC metadata\n",
    "    fgdc_md = to_fgdc(record)\n",
    "    with open(f'{UPLOAD_DIR}/{outname}.xml', 'w') as f:\n",
    "        f.write(fgdc_md)\n",
    "    \n",
    "    # Convert the generic metadata record into a STAC formatted metadata record\n",
    "    as_stac = to_stac(record, assets=assets)\n",
    "    as_stac.validate()\n",
    "    \n",
    "    # Add the item to the parent collection. This also adds the collection to the item (win-win)\n",
    "    coll.add_item(as_stac)\n",
    "    \n",
    "    # Write the STAC metadata\n",
    "    with open(f'{UPLOAD_DIR}/{outname}.json', 'w') as f:\n",
    "        json.dump( as_stac.to_dict(), f, indent=2)\n",
    "\n",
    "# Now write the collection\n",
    "coll.validate()\n",
    "with open(f'{UPLOAD_DIR}/collection.json', 'w') as f:\n",
    "    json.dump(coll.to_dict(), f)"
   ]
  },
  {
   "cell_type": "markdown",
   "id": "directed-forge",
   "metadata": {},
   "source": [
    "---------------------------\n",
    "## Step IV: What about using glob?\n",
    "\n",
    "It is also sometimes desirable to not have to generate a file list before hand. It is possible to use the glob module to generate a listing similar to the one above. The cells below:\n",
    "- Create a new collection for Europa mosaics\n",
    "- Glob a local directory full of said mosaics\n",
    "- Generate stac and fgdc metadata for the image mosaics"
   ]
  },
  {
   "cell_type": "code",
   "execution_count": null,
   "id": "collect-freedom",
   "metadata": {},
   "outputs": [],
   "source": []
  }
 ],
 "metadata": {
  "kernelspec": {
   "display_name": "amg",
   "language": "python",
   "name": "amg"
  },
  "language_info": {
   "codemirror_mode": {
    "name": "ipython",
    "version": 3
   },
   "file_extension": ".py",
   "mimetype": "text/x-python",
   "name": "python",
   "nbconvert_exporter": "python",
   "pygments_lexer": "ipython3",
   "version": "3.8.8"
  }
 },
 "nbformat": 4,
 "nbformat_minor": 5
}
