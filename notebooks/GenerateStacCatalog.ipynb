{
 "cells": [
  {
   "cell_type": "markdown",
   "id": "specified-benefit",
   "metadata": {},
   "source": [
    "# Generate a STAC Catalog\n",
    "\n",
    "For better or worse, it is easier to build a STAC catalog at the same time that the STAC items are created. Below we generate a catalog and metadata for a directory of data"
   ]
  },
  {
   "cell_type": "markdown",
   "id": "settled-niagara",
   "metadata": {},
   "source": [
    "---------------------\n",
    "## Step I: Make the catalog"
   ]
  },
  {
   "cell_type": "code",
   "execution_count": 4,
   "id": "intensive-rhythm",
   "metadata": {},
   "outputs": [],
   "source": [
    "import datetime\n",
    "from pathlib import Path\n",
    "import ssl\n",
    "# This is require for verification / validation using remote resources when inside the network\n",
    "ssl._create_default_https_context = ssl._create_unverified_context\n",
    "\n",
    "import pystac\n",
    "from pystac import Collection, SpatialExtent, TemporalExtent, Extent\n",
    "\n",
    "\n",
    "\n",
    "description = \"\"\"\n",
    "The Solid State Imager (SSI) on NASA's Galileo spacecraft acquired more than 500 images of Jupiter's moon, Europa, \n",
    "providing the only moderate- to high-resolution images of the moon's surface. Images were acquired as observation \n",
    "sequences during each orbit that targeted the moon. Each of these observation sequences consists of between 1 and \n",
    "19 images acquired close in time, that typically overlap, have consistent illumination and similar pixel scale. \n",
    "The observations vary from relatively low-resolution hemispherical imaging, to high-resolution targeted images that \n",
    "cover a small portion of the surface. Here we provide average mosaics of each of the individual observation sequences \n",
    "acquired by the Galileo spacecraft. These observation mosaics were constructed from a set of 481 Galileo images that \n",
    "were photogrammetrically controlled globally (along with 221 Voyager 1 and 2 images) to improve their relative \n",
    "locations on Europa's surface. The 92 observation mosaics provide users with nearly the entire Galileo Europa \n",
    "imaging dataset at its native resolution and with improved relative image locations.\n",
    "\n",
    "The Solid State Imager (SSI) on NASA's Galileo spacecraft provided the only moderate- to high-resolution images \n",
    "of Jupiter's moon, Europa. Unfortunately, uncertainty in the position and pointing of the spacecraft, as well as \n",
    "the position and orientation of Europa, when the images were acquired resulted in significant errors in image \n",
    "locations on the surface. The result of these errors is that images acquired during different Galileo orbits, or \n",
    "even at different times during the same orbit, are significantly misaligned (errors of up to 100 km on the surface).\n",
    "Previous work has generated global mosaics of Galileo and Voyager images that photogrammetrically control a subset \n",
    "of the available images to correct their relative locations. However, these efforts result in a \"static\" mosaic \n",
    "that is projected to a consistent pixel scale, and only use a fraction of the dataset (e.g., high resolution images \n",
    "are not included). The purpose of this current dataset is to increase the usability of the entire Galileo image set \n",
    "by photogrammetrically improving the locations of nearly every Europa image acquired by Galileo, and making them \n",
    "available to the community at their native resolution and in easy-to-use regional mosaics based on their acquisition time.\n",
    "The dataset therefore provides a set of image mosaics that can be used for scientific analysis and mission planning activities.\n",
    "\"\"\"\n",
    "\n",
    "coll = Collection(id='usgs_controlled_voy1_voy2_galileo',\n",
    "                  title='USGS Controlled Europa Voyager 1, Voyager 2, and Galileo Image Data',\n",
    "                  description=description,\n",
    "                  extent=Extent(SpatialExtent([-180, -90, 180, 90]), TemporalExtent([datetime.datetime(2021, 1, 1), None])),\n",
    "                  href='https://asc-jupiter.s3-us-west-2.amazonaws.com/europa/individual_l2/collection.json',\n",
    "                  license='PDDL-1.0'\n",
    "                 )\n",
    "coll.validate()"
   ]
  },
  {
   "cell_type": "markdown",
   "id": "facial-pioneer",
   "metadata": {},
   "source": [
    "----------------\n",
    "## Step II: Get a list of the input data\n",
    "\n",
    "Below, we are generating the catalog from a list of files that contains full, qualified paths. One could also use glob to generate a file list dynamically from within a notebook."
   ]
  },
  {
   "cell_type": "code",
   "execution_count": 5,
   "id": "civilian-bidding",
   "metadata": {},
   "outputs": [],
   "source": [
    "UPLOAD_DIR = '/scratch/ARD/stac/jupiter/europa/'\n",
    "\n",
    "# List the products to generate STAC for...\n",
    "with open('/archive/projects/europa/GLL_FinProducts/observation_lev2_products.lis', 'r') as f:\n",
    "    products = f.readlines()\n",
    "products = [Path(p.rstrip()) for p in products]"
   ]
  },
  {
   "cell_type": "code",
   "execution_count": 7,
   "id": "center-cache",
   "metadata": {},
   "outputs": [
    {
     "name": "stdout",
     "output_type": "stream",
     "text": [
      "[PosixPath('/archive/projects/europa/GLL_FinProducts/10ESGLOBAL01/Lev2/s0413742778.equi.cub'), PosixPath('/archive/projects/europa/GLL_FinProducts/10ESGLOBAL01/Lev2/s0413742778.equi.photr.cub')]\n"
     ]
    }
   ],
   "source": [
    "print(products[0:2])"
   ]
  },
  {
   "cell_type": "markdown",
   "id": "hawaiian-procedure",
   "metadata": {},
   "source": [
    "-----------------------\n",
    "## Step III: Cook Metadata and Update the Catalog"
   ]
  },
  {
   "cell_type": "code",
   "execution_count": null,
   "id": "reliable-guard",
   "metadata": {},
   "outputs": [],
   "source": [
    "for f in products:\n",
    "    f = str(f)\n",
    "    basename = os.path.basename(f)\n",
    "    outname = os.path.splitext(basename)[0]\n",
    "\n",
    "    fgdc = FGDCMetadata('sample.xml')\n",
    "    gd = GDALMetadata(f)\n",
    "    imd = IsisMetadata(f)\n",
    "\n",
    "    overrides = {'license': 'PDDL-1.0',\n",
    "         'missions':['Voyager 1', 'Voyager 2', 'Galileo'],\n",
    "         'doi':'mydoinumber',\n",
    "         'href':'https://asc-jupiter.s3-us-west-2.amazonaws.com/europa/individual_l2'}\n",
    "\n",
    "    record = UnifiedMetadata([fgdc, gd, imd], overrides=overrides, mappings={'bbox':IsisMetadata, })\n",
    "\n",
    "    assets = [{'title':'JPEG thumbnail of image {productid}',\n",
    "       'href':'{href}/{productid}.jpeg',\n",
    "       'media_type':'image/jpeg',\n",
    "       'roles':['thumbnail'],\n",
    "       'key':'thumbnail'},\n",
    "     {'title': 'Cloud optimized GeoTiff for image {productid}',\n",
    "      'href':'{href}/{productid}-cog.tif',\n",
    "      'media_type':'image/tiff; application=geotiff; profile=cloud-optimized',\n",
    "      'roles':['data'],\n",
    "      'key':'B1'},\n",
    "     {'title': 'GDAL PAM Metadata for image {productid}',\n",
    "      'href':'{href}/{productid}-cog.tif.aux.xml',\n",
    "      'media_type':'application/xml',\n",
    "      'roles':['metadata'],\n",
    "      'key':'gdal_metadata'}]\n",
    "\n",
    "    # Convert the generic metadata record into a STAC formatted metadata record\n",
    "    as_stac = to_stac(record, assets=assets)\n",
    "    as_stac.validate()\n",
    "    \n",
    "    # Add the item to the parent collection. This also adds the collection to the item\n",
    "    coll.add_item(as_stac)\n",
    "    \n",
    "    # Write the STAC metadata\n",
    "    with open(f'{UPLOAD_DIR}/{outname}.json', 'w') as f:\n",
    "        json.dump( as_stac.to_dict(), f)\n",
    "\n",
    "# Now write the collection\n",
    "coll.validate()\n",
    "with open(f'{UPLOAD_DIR}/collection.json', 'w') as f:\n",
    "    json.dump(coll.to_dict(), f)"
   ]
  }
 ],
 "metadata": {
  "kernelspec": {
   "display_name": "amg",
   "language": "python",
   "name": "amg"
  },
  "language_info": {
   "codemirror_mode": {
    "name": "ipython",
    "version": 3
   },
   "file_extension": ".py",
   "mimetype": "text/x-python",
   "name": "python",
   "nbconvert_exporter": "python",
   "pygments_lexer": "ipython3",
   "version": "3.8.8"
  }
 },
 "nbformat": 4,
 "nbformat_minor": 5
}
