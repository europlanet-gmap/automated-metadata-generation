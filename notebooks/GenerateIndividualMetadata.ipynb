{
 "cells": [
  {
   "cell_type": "markdown",
   "id": "accepted-machine",
   "metadata": {},
   "source": [
    "# Generate Individual Metadata Files"
   ]
  },
  {
   "cell_type": "markdown",
   "id": "liked-headset",
   "metadata": {},
   "source": [
    "First we have the necessart imports. These are largely encapsulated inside of the automated metadata generation (`amg`) library. THe only external things we import are `json` (so that we can write out STAC files)."
   ]
  },
  {
   "cell_type": "code",
   "execution_count": 1,
   "id": "secondary-abortion",
   "metadata": {},
   "outputs": [],
   "source": [
    "import json\n",
    "\n",
    "from amg.isismetadata import IsisMetadata\n",
    "from amg.fgdcmetadata import FGDCMetadata, EquirectangularFgdcParser, PolarStereoGraphicFgdcParser\n",
    "from amg.gdalmetadata import GDALMetadata\n",
    "from amg.formatters.stac_formatter import to_stac\n",
    "from amg.formatters.fgdc_formatter import to_fgdc\n",
    "from amg import UnifiedMetadata\n"
   ]
  },
  {
   "cell_type": "markdown",
   "id": "arranged-showcase",
   "metadata": {},
   "source": [
    "## Step I: Build the Inputs"
   ]
  },
  {
   "cell_type": "code",
   "execution_count": 5,
   "id": "conventional-handy",
   "metadata": {},
   "outputs": [],
   "source": [
    "#Define Inputs\n",
    "fgdc = FGDCMetadata('../templates/europa_individual_l2_fgdc.xml', proj='equirect')\n",
    "gd = GDALMetadata('/archive/projects/europa/GLL_FinProducts/10ESGLOBAL01/Lev2/s0413742778.equi.cub')\n",
    "imd = IsisMetadata('/archive/projects/europa/GLL_FinProducts/10ESGLOBAL01/Lev2/s0413742778.equi.cub')\n",
    "\n",
    "\n",
    "# Define overrides\n",
    "overrides = {'license': 'PDDL-1.0',\n",
    "             'missions':['Voyager 1', 'Voyager 2', 'Galileo'],\n",
    "             'doi':'https://doi.org/10.5066/P9VKKK7C',\n",
    "             'href':'https://asc-jupiter.s3-us-west-2.amazonaws.com/europa/individual_l2'}\n",
    "\n",
    "# Define mappings\n",
    "mappings = {'bbox':IsisMetadata, }"
   ]
  },
  {
   "cell_type": "markdown",
   "id": "answering-image",
   "metadata": {},
   "source": [
    "The code above might look really busy at first inspection. Here, each step is described in greater detail to help provide context about how `amg` works.\n",
    "\n",
    "First, a FGDC metadata template is input. The projection (`equirect` in this case) is manually specified so that the template can completely omit a projection section. Next, the spatial data are input both as ISIS cubes and as GDAL files. This is because each library offers different metadata items. These three inputs (`fgdc`, `gd`, and `imd`) contain all of the information needed to output compliant metadata in FGDC and STAC formats.\n",
    "```\n",
    "fgdc = FGDCMetadata('europa_individual_l2_fgdc.xml', proj='equirect')\n",
    "gd = GDALMetadata('/archive/projects/europa/GLL_FinProducts/10ESGLOBAL01/Lev2/s0413742778.equi.cub')\n",
    "imd = IsisMetadata('/archive/projects/europa/GLL_FinProducts/10ESGLOBAL01/Lev2/s0413742778.equi.cub')\n",
    "```\n",
    "\n",
    "Next overrides are defined. An override is a way for the user to explicitly set a field in the output metadata. Perhaps the field is not availabe in the inputs, or perhaps the user wishes to force a specific value that is different from what is parsed from the input files above. In the example here, none of the overrides (`license`, `missions`, `doi`, or `href`) are available from one of the input sources above.\n",
    "\n",
    "```\n",
    "overrides = {'license': 'PDDL-1.0',\n",
    "             'missions':['Voyager 1', 'Voyager 2', 'Galileo'],\n",
    "             'doi':'https://doi.org/10.5066/P9VKKK7C',\n",
    "             'href':'https://asc-jupiter.s3-us-west-2.amazonaws.com/europa/individual_l2'}\n",
    "```\n",
    "\n",
    "Finally, mappings are defined. A mapping tells the parsers to get a metadata value from a specific input. In this case, the `bbox` or bounding box is going to be explicitly parsed from the IsisMetadata (`imd` above). Left to it's own devices, the parser could get the `bbox` from either the Isis input or the GDAL input.\n",
    "```\n",
    "mappings = {'bbox':IsisMetadata, }\n",
    "```"
   ]
  },
  {
   "cell_type": "markdown",
   "id": "protecting-briefs",
   "metadata": {},
   "source": [
    "-----------------------------------------\n",
    "## Step II: Smash it together!"
   ]
  },
  {
   "cell_type": "code",
   "execution_count": 6,
   "id": "meaning-works",
   "metadata": {},
   "outputs": [],
   "source": [
    "# Create a unified metadata object\n",
    "record = UnifiedMetadata([fgdc, gd, imd], overrides=overrides, mappings=mappings)\n"
   ]
  },
  {
   "cell_type": "markdown",
   "id": "understood-insulin",
   "metadata": {},
   "source": [
    "Above we take the inputs, overrides, and mappings (all described above) and push them into a single, unified metadata object. This `record` is able to perform lookups on all of the input objects to find attributes that are needed to generate metadata.\n",
    "\n",
    "For anyone interested the unified metadata object does the folling on a `__getattr__` call:\n",
    "\n",
    "1. Check the overrides to see if the key is in that dict. If so, return the override.\n",
    "1. Check the mappings. If the key is in the mapping, run get the attribute off of the specified object.\n",
    "1. Iterate over the input objects and attempt to get the attribute off of any of the inputs."
   ]
  },
  {
   "cell_type": "markdown",
   "id": "forbidden-guard",
   "metadata": {},
   "source": [
    "---------------------------\n",
    "# Step III: Reformat"
   ]
  },
  {
   "cell_type": "code",
   "execution_count": 7,
   "id": "related-tours",
   "metadata": {},
   "outputs": [
    {
     "name": "stderr",
     "output_type": "stream",
     "text": [
      "/work/users/jlaura/github/automated-metadata-generation/amg/__init__.py:31: UserWarning: Unable to find the attribute \"instruments\" in any data source.\n",
      "  warnings.warn(f'Unable to find the attribute \"{attr}\" in any data source.')\n",
      "/work/users/jlaura/github/automated-metadata-generation/amg/__init__.py:31: UserWarning: Unable to find the attribute \"gsd\" in any data source.\n",
      "  warnings.warn(f'Unable to find the attribute \"{attr}\" in any data source.')\n"
     ]
    }
   ],
   "source": [
    "# Generate FGDC metadata\n",
    "fgdc_md = to_fgdc(record)\n",
    "with open('equirectangular_output.xml', 'w') as f:\n",
    "    f.write(fgdc_md)\n",
    "    \n",
    "# Generate STAC metadata\n",
    "stac_md = to_stac(record)\n",
    "with open('equirectangular_output.json', 'w') as f:\n",
    "    json.dump(stac_md.to_dict(), f, indent=2)"
   ]
  },
  {
   "cell_type": "markdown",
   "id": "light-seminar",
   "metadata": {},
   "source": [
    "Above, we output metadata in the format desired. The library currently has 2 formatters (`to_fgdc` and `to_stac`) that take the unified metadata object, perform some parsing, and then output standards compliant metadata. The libraries that we depend on to parse the metadata include validators, so the outputs are being validated (more or less accurately) before they are written to disk.\n",
    "\n",
    "Here you can also see that two of the desired attributes (in this case `instruments` and `gsd`) were not available in the input files. The user is only warned the first time this happens, so a second run would silently succeed."
   ]
  },
  {
   "cell_type": "markdown",
   "id": "hourly-format",
   "metadata": {},
   "source": [
    "_________________________\n",
    "## All in one\n",
    "\n",
    "Below is an all in one example on some polar stereographic data. The structure is identical to the above. The difference is that the input dataset is different."
   ]
  },
  {
   "cell_type": "code",
   "execution_count": null,
   "id": "checked-values",
   "metadata": {},
   "outputs": [],
   "source": [
    "# Polar\n",
    "fgdc = FGDCMetadata('../templates/europa_individual_l2_fgdc.xml', proj='polarst')\n",
    "gd = GDALMetadata('/archive/projects/europa/GLL_FinProducts/10ESGLOBAL01/Lev2/s0413742778.spola.cub')\n",
    "imd = IsisMetadata('/archive/projects/europa/GLL_FinProducts/10ESGLOBAL01/Lev2/s0413742778.spola.cub')\n",
    "\n",
    "\n",
    "overrides = {'license': 'PDDL-1.0',\n",
    "             'missions':['Voyager 1', 'Voyager 2', 'Galileo'],\n",
    "             'doi':'https://doi.org/10.5066/P9VKKK7C',\n",
    "             'href':'https://asc-jupiter.s3-us-west-2.amazonaws.com/europa/individual_l2'}\n",
    "\n",
    "record = UnifiedMetadata([fgdc, gd, imd], overrides=overrides, mappings={'bbox':IsisMetadata, })\n",
    "\n",
    "fgdc_md = to_fgdc(record)\n",
    "with open('polar_output.xml', 'w') as f:\n",
    "    f.write(fgdc_md)\n",
    "    \n",
    "# Generate STAC metadata\n",
    "stac_md = to_stac(record)\n",
    "with open('polar_output.json', 'w') as f:\n",
    "    json.dump(stac_md.to_dict(), f, indent=2)"
   ]
  }
 ],
 "metadata": {
  "kernelspec": {
   "display_name": "amg",
   "language": "python",
   "name": "amg"
  },
  "language_info": {
   "codemirror_mode": {
    "name": "ipython",
    "version": 3
   },
   "file_extension": ".py",
   "mimetype": "text/x-python",
   "name": "python",
   "nbconvert_exporter": "python",
   "pygments_lexer": "ipython3",
   "version": "3.8.8"
  }
 },
 "nbformat": 4,
 "nbformat_minor": 5
}
